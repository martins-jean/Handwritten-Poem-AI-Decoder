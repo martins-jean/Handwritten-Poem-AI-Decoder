{
  "nbformat": 4,
  "nbformat_minor": 0,
  "metadata": {
    "colab": {
      "provenance": [],
      "include_colab_link": true
    },
    "kernelspec": {
      "name": "python3",
      "display_name": "Python 3"
    }
  },
  "cells": [
    {
      "cell_type": "markdown",
      "metadata": {
        "id": "view-in-github",
        "colab_type": "text"
      },
      "source": [
        "<a href=\"https://colab.research.google.com/github/martins-jean/Handwritten-Poem-AI-Decoder/blob/main/Handwritten_Poem_AI_Decoder.ipynb\" target=\"_parent\"><img src=\"https://colab.research.google.com/assets/colab-badge.svg\" alt=\"Open In Colab\"/></a>"
      ]
    },
    {
      "cell_type": "markdown",
      "source": [
        "**INTRODUCTION**\n",
        "\n",
        "<p align=\"justify\"> Neural networks are capable of incredibly powerful tasks. In this project, we'll use them to create an AI that can decode a handwritten poem. We'll use the EMNIST dataset of handwritten letters which comes from the collection of handwritten numbers and letters, originally gathered from high school students and census bureau staff. It is difficult to construct a neural network to recognize handwriting and translate it into typed text because everyone writes letters differently. Consider all the various ways you have seen individuals write the letter \"J,\" for instance."
      ],
      "metadata": {
        "id": "OVz85k0MGgG9"
      }
    },
    {
      "cell_type": "markdown",
      "source": [
        "**STEP** 1️⃣ <BR>\n",
        "FIND A LABELLED DATASET TO TRAIN OUR NEURAL NETWORK"
      ],
      "metadata": {
        "id": "rhMw07BwHlu2"
      }
    },
    {
      "cell_type": "code",
      "source": [
        "# STEP 1.1\n",
        "\n",
        "!git clone https://github.com/sorki/python-mnist\n",
        "!./python-mnist/bin/mnist_get_data.sh\n",
        "!pip3 install emnist\n",
        "from emnist import extract_training_samples\n",
        "\n",
        "print(\"Imported the EMNIST libraries we need!\")"
      ],
      "metadata": {
        "colab": {
          "base_uri": "https://localhost:8080/"
        },
        "id": "8jubiikQIWCB",
        "outputId": "a61912a2-86c4-414e-a9a8-fa6d2e44fd04"
      },
      "execution_count": 26,
      "outputs": [
        {
          "output_type": "stream",
          "name": "stdout",
          "text": [
            "fatal: destination path 'python-mnist' already exists and is not an empty directory.\n",
            "data directory already present, exiting\n",
            "Looking in indexes: https://pypi.org/simple, https://us-python.pkg.dev/colab-wheels/public/simple/\n",
            "Requirement already satisfied: emnist in /usr/local/lib/python3.8/dist-packages (0.0)\n",
            "Requirement already satisfied: tqdm in /usr/local/lib/python3.8/dist-packages (from emnist) (4.64.1)\n",
            "Requirement already satisfied: requests in /usr/local/lib/python3.8/dist-packages (from emnist) (2.25.1)\n",
            "Requirement already satisfied: numpy in /usr/local/lib/python3.8/dist-packages (from emnist) (1.21.6)\n",
            "Requirement already satisfied: urllib3<1.27,>=1.21.1 in /usr/local/lib/python3.8/dist-packages (from requests->emnist) (1.24.3)\n",
            "Requirement already satisfied: idna<3,>=2.5 in /usr/local/lib/python3.8/dist-packages (from requests->emnist) (2.10)\n",
            "Requirement already satisfied: certifi>=2017.4.17 in /usr/local/lib/python3.8/dist-packages (from requests->emnist) (2022.12.7)\n",
            "Requirement already satisfied: chardet<5,>=3.0.2 in /usr/local/lib/python3.8/dist-packages (from requests->emnist) (4.0.0)\n",
            "Imported the EMNIST libraries we need!\n"
          ]
        }
      ]
    },
    {
      "cell_type": "markdown",
      "source": [
        "<p align=\"justify\"> We now wish to extract the data from these libraries that we plan to evaluate. In this instance, we want to download the EMNIST \"letters\" dataset, which has 145,600 images of letters that are 28x28 pixels in size, or a total of 784 pixels. A grayscale value between 0 and 255 is assigned to each pixel. We divide each value by 255 to produce a number between 0 and 1 for each pixel in each image so that the neural network can process it more easily. Pre-processing is the process of transforming data in this way to make it simpler for a machine learning method to process it. For different types of data, different pre-processing stages could be necessary. \n",
        "<br>\n",
        "<br>\n",
        "<p align=\"justify\"> The known labels for these images are also included in this dataset. That will be the source of the learning for our neural network. In this example, the first 60,000 images will serve as our training set, while the final 10,000 images will serve as our testing set and we will use them to ask the network to check how well it has learned. This is a somewhat arbitrary choice, but in my opinion, this is a sizable enough sample (more would simply take longer to process but wouldn't increase the model's accuracy). However, don't take my word for it; you may experiment with the training and testing sample on your own. Just keep in mind to keep the two samples apart at all times. Because this code is essentially downloading 70,000 images, running this cell can take a little while."
      ],
      "metadata": {
        "id": "l8yfjFNhLDeo"
      }
    },
    {
      "cell_type": "code",
      "source": [
        "# STEP 1.2\n",
        "\n",
        "# Grab the data from the OpenML website\n",
        "# X will be our images and y will be the labels\n",
        "X, y = extract_training_samples('letters')\n",
        "\n",
        "# Make sure that every pixel in all of the images is a value between 0 and 1\n",
        "X = X / 255\n",
        "\n",
        "# Use the first 60,000 instances as training and the next 10,000 as testing\n",
        "X_train, X_test = X[:60000], X[60000:70000]\n",
        "y_train, y_test = y[:60000], y[60000:70000]\n",
        "\n",
        "# There is one other thing we need to do, we need to record the number of\n",
        "# samples in each dataset and the number of pixels in each image\n",
        "X_train = X_train.reshape(60000, 784)\n",
        "X_test = X_test.reshape(10000, 784)\n",
        "\n",
        "print(\"Extracted our samples and divided our training and testing data sets\")"
      ],
      "metadata": {
        "colab": {
          "base_uri": "https://localhost:8080/"
        },
        "id": "mpMYEMLmNygB",
        "outputId": "b66ea951-2f49-451b-ce6f-3d7dbfee2e72"
      },
      "execution_count": 27,
      "outputs": [
        {
          "output_type": "stream",
          "name": "stdout",
          "text": [
            "Extracted our samples and divided our training and testing data sets\n"
          ]
        }
      ]
    },
    {
      "cell_type": "markdown",
      "source": [
        "<p align=\"justify\"> Let's examine a few of the images and labels in the set to verify the information was downloaded successfully. To check the label and image for various training instances, you can alter the img_index value to various values and execute the code as often as you like. Some letters are very obvious (for example, 8888 is unmistakably a \"Y\"), but others are less so (for example, is 1234 a loopy \"L\" or \"P\" or perhaps even a \"E\" at an odd angle?) It's obvious why this is such a challenging task! However what matters is that we are prepared for the next steps since we are confident that the data was downloaded accurately."
      ],
      "metadata": {
        "id": "BZo1MoAmQ5h-"
      }
    },
    {
      "cell_type": "code",
      "source": [
        "# STEP 1.3\n",
        "\n",
        "import matplotlib.pyplot as plt\n",
        "\n",
        "img_index = 14000 # You can update this value to look at other images\n",
        "img = X_train[img_index]\n",
        "\n",
        "print(\"Image Label: \" + str(chr(y_train[img_index]+96)))\n",
        "plt.imshow(img.reshape((28, 28)))"
      ],
      "metadata": {
        "colab": {
          "base_uri": "https://localhost:8080/",
          "height": 300
        },
        "id": "GGZ7zN8oROQS",
        "outputId": "b44547b8-a568-4d65-e3b0-d1672695cb8b"
      },
      "execution_count": 28,
      "outputs": [
        {
          "output_type": "stream",
          "name": "stdout",
          "text": [
            "Image Label: m\n"
          ]
        },
        {
          "output_type": "execute_result",
          "data": {
            "text/plain": [
              "<matplotlib.image.AxesImage at 0x7f2402069880>"
            ]
          },
          "metadata": {},
          "execution_count": 28
        },
        {
          "output_type": "display_data",
          "data": {
            "text/plain": [
              "<Figure size 432x288 with 1 Axes>"
            ],
            "image/png": "[encoded data removed]"
          },
          "metadata": {
            "needs_background": "light"
          }
        }
      ]
    },
    {
      "cell_type": "markdown",
      "source": [
        "**STEP** 2️⃣ <br>\n",
        "CREATE A NEURAL NETWORK"
      ],
      "metadata": {
        "id": "STxsOHwDTJ00"
      }
    },
    {
      "cell_type": "markdown",
      "source": [
        "<p align=\"justify\"> Now that we've looked at the data, let's build a neural network that will be able to take the picture as input and output the corresponding letter. In this case, we're going to stick to a multi-layer perceptron neural network, or MLP. Rather than trying to write all of it from scratch, we're going to import and use an existing library that provides some MLP tools for us. For a lot of AI problems, we can use existing libraries and tweak them to do something new rather than trying to write everything from scratch. Just to try this out, we'll create a neural network -- a MLP classifier -- with one hidden layer that has 50 neurons in it. We'll have it run through the training data 20 times (that's max_iter=20) so it doesn't take too long. We also set a variety of other learning parameters to create the MLP. You may recognize some of these parameters, like learning rate. By changing any of these parameters, we can influence how the MLP performs in training and testing, but it's a good idea to try a default approach and then improve on it later."
      ],
      "metadata": {
        "id": "FHMSY5MRT6hX"
      }
    },
    {
      "cell_type": "code",
      "source": [
        "# STEP 2.1\n",
        "\n",
        "# These two lines import the ML libraries we need\n",
        "from sklearn.datasets import fetch_openml\n",
        "from sklearn.neural_network import MLPClassifier\n",
        "\n",
        "# This creates our first MLP with one hidden layer and 50 neurons\n",
        "# We set it to run through the data 20 times \n",
        "mlp1 = MLPClassifier(hidden_layer_sizes = (50,), max_iter = 20, alpha = 1e-4,\n",
        "                     solver = 'sgd', verbose = 10, tol = 1e-4, random_state = 1,\n",
        "                     learning_rate_init = .1)\n",
        "\n",
        "print(\"Created our first MLP network\")"
      ],
      "metadata": {
        "colab": {
          "base_uri": "https://localhost:8080/"
        },
        "id": "3Y2wcM2yUWLC",
        "outputId": "5f44985f-bc0d-4d7b-866f-56d51ad4c8a0"
      },
      "execution_count": 29,
      "outputs": [
        {
          "output_type": "stream",
          "name": "stdout",
          "text": [
            "Created our first MLP network\n"
          ]
        }
      ]
    },
    {
      "cell_type": "markdown",
      "source": [
        "**STEP** 3️⃣ <br>\n",
        "TRAIN, TEST AND OPTIMIZE THE ACCURACY OF OUR MODEL"
      ],
      "metadata": {
        "id": "RQtcpvXbVT2X"
      }
    },
    {
      "cell_type": "markdown",
      "source": [
        "<p align=\"justify\"> Now that we've created the MLP, let's actually train it and test its ability to recognize some handwritten letters! Go ahead and \"fit\" command to see how it will perform -- it might take a minute. As it's learning, it will print status update information about the learning process. You can see the loss value decreasing over each iteration, which means it's getting better at recognizing the training set!"
      ],
      "metadata": {
        "id": "euEEXU8rVwFR"
      }
    },
    {
      "cell_type": "code",
      "source": [
        "# STEP 3.1\n",
        "\n",
        "mlp1.fit(X_train, y_train)\n",
        "print(\"Training set score: %f\" % mlp1.score(X_train, y_train))\n",
        "print(\"Test set score: %f\" % mlp1.score(X_test, y_test))"
      ],
      "metadata": {
        "colab": {
          "base_uri": "https://localhost:8080/"
        },
        "id": "wPUenO8kV6pr",
        "outputId": "c1426124-c3bb-462b-c54c-d124de05637e"
      },
      "execution_count": 30,
      "outputs": [
        {
          "output_type": "stream",
          "name": "stdout",
          "text": [
            "Iteration 1, loss = 1.06351395\n",
            "Iteration 2, loss = 0.64844650\n",
            "Iteration 3, loss = 0.56103245\n",
            "Iteration 4, loss = 0.51987725\n",
            "Iteration 5, loss = 0.49182099\n",
            "Iteration 6, loss = 0.47301057\n",
            "Iteration 7, loss = 0.45839220\n",
            "Iteration 8, loss = 0.44603836\n",
            "Iteration 9, loss = 0.43479721\n",
            "Iteration 10, loss = 0.42809575\n",
            "Iteration 11, loss = 0.41639233\n",
            "Iteration 12, loss = 0.40782908\n",
            "Iteration 13, loss = 0.40548360\n",
            "Iteration 14, loss = 0.39965983\n",
            "Iteration 15, loss = 0.39296832\n",
            "Iteration 16, loss = 0.38883219\n",
            "Iteration 17, loss = 0.38393955\n",
            "Iteration 18, loss = 0.37948343\n",
            "Iteration 19, loss = 0.37307616\n",
            "Iteration 20, loss = 0.37166732\n"
          ]
        },
        {
          "output_type": "stream",
          "name": "stderr",
          "text": [
            "/usr/local/lib/python3.8/dist-packages/sklearn/neural_network/_multilayer_perceptron.py:692: ConvergenceWarning: Stochastic Optimizer: Maximum iterations (20) reached and the optimization hasn't converged yet.\n",
            "  warnings.warn(\n"
          ]
        },
        {
          "output_type": "stream",
          "name": "stdout",
          "text": [
            "Training set score: 0.886500\n",
            "Test set score: 0.840800\n"
          ]
        }
      ]
    },
    {
      "cell_type": "markdown",
      "source": [
        "<p align=\"justify\"> You can try running this a couple of times and you'll see that the accuracy and loss will be in the same ballpark but slightly different each time. These differences are due to the fact that the neuron weights are randomly initialized in each run. But if you didn't change anything in the MLP structure above, you're probably seeing something like 89% accuracy on the training dataset and 84% accuracy on the testing dataset. That's actually pretty good -- it means that the network is guessing correctly 84% of time on letters it's never seen before! It learned! But let's see if we can make it even better. We can explore the dataset to figure out where things went wrong."
      ],
      "metadata": {
        "id": "f4pc2UPLYOUW"
      }
    },
    {
      "cell_type": "code",
      "source": [
        "# STEP 3.2\n",
        "\n",
        "# First let's initialize a list with all the predicted values from the training set\n",
        "y_pred = mlp1.predict(X_test)\n",
        "\n",
        "# Now let's visualize the errors between the predictions and the actual labels using a confusion matrix\n",
        "from sklearn.metrics import confusion_matrix\n",
        "cm = confusion_matrix(y_test, y_pred)\n",
        "plt.matshow(cm)"
      ],
      "metadata": {
        "colab": {
          "base_uri": "https://localhost:8080/",
          "height": 292
        },
        "id": "UhSxXs_SYeeQ",
        "outputId": "ffa748f1-04e1-4074-f3e2-f9eec2334a6a"
      },
      "execution_count": 31,
      "outputs": [
        {
          "output_type": "execute_result",
          "data": {
            "text/plain": [
              "<matplotlib.image.AxesImage at 0x7f24020264f0>"
            ]
          },
          "metadata": {},
          "execution_count": 31
        },
        {
          "output_type": "display_data",
          "data": {
            "text/plain": [
              "<Figure size 288x288 with 1 Axes>"
            ],
            "image/png": "[encoded data removed]"
          },
          "metadata": {
            "needs_background": "light"
          }
        }
      ]
    },
    {
      "cell_type": "markdown",
      "metadata": {
        "id": "dWe9nrfdaPBq"
      },
      "source": [
        "<p align=\"justify\"> The color of each cell in the confusion matrix represents the number of elements in that cell -- a brighter color means more elements. The rows are the correct value and the columns are the predicted value. The numbers on the axes represent the 26 letters in the English alphabet (though EMNIST just represents letters as numbers, so 0=A, 1=B, etc.), so the brightness of cell (0,0) represents the number of times that our network correctly predicted that an \"A\" is an \"A.\"  The diagonal line of cells shows when the predicted value is correct. It's good to see a bright line! If any of the cells off the diagonal are particularly bright, we can investigate more. For example, \"i\" and \"l\" may be easy to confuse (\"U\" and \"V\" are also good ones to try!), so let's look at some of the cases where that happened. You can change the code and run it as many times as you want to look at some examples of these mistakes."
      ]
    },
    {
      "cell_type": "code",
      "metadata": {
        "id": "kGNJFFZmfS4I",
        "colab": {
          "base_uri": "https://localhost:8080/",
          "height": 282
        },
        "outputId": "bb8baeb6-808e-47d0-f212-e927e594e71a"
      },
      "source": [
        "# STEP 3.3\n",
        "\n",
        "# You can change this to any letters that you think the neural network may have confused...\n",
        "predicted_letter = 'l'\n",
        "actual_letter = 'i'\n",
        "\n",
        "\n",
        "# This code counts all mistakes for the letters above\n",
        "mistake_list = []\n",
        "for i in range(len(y_test)):\n",
        "  if (y_test[i] == (ord(actual_letter) - 96) and y_pred[i] == (ord(predicted_letter) - 96)):\n",
        "    mistake_list.append(i)\n",
        "print(\"There were \" + str(len(mistake_list)) + \" times that the letter \" + actual_letter + \" was predicted to be the letter \" + predicted_letter + \".\")\n",
        "\n",
        "# Once we know how many mistakes were made, we can change this to see an image of a particular one\n",
        "mistake_to_show = 4 # <<< e.g., change this to 3 if you want to see the 4th mistake\n",
        "\n",
        "# This code checks that the number mistake you asked for can be shown and if so, displays an image of it\n",
        "if (len(mistake_list)> mistake_to_show):\n",
        "  img = X_test[mistake_list[mistake_to_show]]\n",
        "  plt.imshow(img.reshape((28,28)))\n",
        "else:\n",
        "  print(\"Couldn't show mistake number \" + str(mistake_to_show + 1) + \" because there were only \" + str(len(mistake_list)) + \" mistakes to show!\")"
      ],
      "execution_count": 32,
      "outputs": [
        {
          "output_type": "stream",
          "name": "stdout",
          "text": [
            "There were 84 times that the letter i was predicted to be the letter l.\n"
          ]
        },
        {
          "output_type": "display_data",
          "data": {
            "text/plain": [
              "<Figure size 432x288 with 1 Axes>"
            ],
            "image/png": "[encoded data removed]"
          },
          "metadata": {
            "needs_background": "light"
          }
        }
      ]
    },
    {
      "cell_type": "markdown",
      "metadata": {
        "id": "-QRU60vfX4XJ"
      },
      "source": [
        "<p align=\"justify\"> On EMNIST, the state-of-the-art machine learning techniques get greater than 96% accuracy, so I think we can also get better than 84%. Let's make a new network called mlp2 and try some things out. One thing we can try is having more hidden layers and more neurons in the hidden layers. For example, to add another hidden layer of 50 neurons, you can do the following: ```hidden_layer_sizes = (50,50,)```. The other thing we can try is training for more epochs (or iterations). For example, we can change our ```max_iter = 30```. You can play around with the structure to see what happens, but with more layers and more epochs, it takes a longer time for the network to train! So let's just start with 5 layers of 100 neurons each, trained for 50 epochs."
      ]
    },
    {
      "cell_type": "code",
      "source": [
        "# STEP 3.4\n",
        "\n",
        "# Change some of the values in the below statement and re-run to see how they affect performance\n",
        "mlp2 = MLPClassifier(hidden_layer_sizes = (100,100,100,100,100,), max_iter = 50, alpha = 1e-4,\n",
        "                     solver = 'sgd', verbose = 10, tol = 1e-4, random_state = 1,\n",
        "                     learning_rate_init = .1)\n",
        "mlp2.fit(X_train, y_train)\n",
        "print(\"Training set score: %f\" % mlp2.score(X_train, y_train))\n",
        "print(\"Test set score: %f\" % mlp2.score(X_test, y_test))"
      ],
      "metadata": {
        "colab": {
          "base_uri": "https://localhost:8080/"
        },
        "id": "Iq6JTlcTcFvw",
        "outputId": "e27c2d2c-ec04-4152-ab2a-9972241f6af4"
      },
      "execution_count": 33,
      "outputs": [
        {
          "output_type": "stream",
          "name": "stdout",
          "text": [
            "Iteration 1, loss = 1.15599672\n",
            "Iteration 2, loss = 0.54834774\n",
            "Iteration 3, loss = 0.44784035\n",
            "Iteration 4, loss = 0.39865207\n",
            "Iteration 5, loss = 0.36308811\n",
            "Iteration 6, loss = 0.33567397\n",
            "Iteration 7, loss = 0.31904877\n",
            "Iteration 8, loss = 0.29485588\n",
            "Iteration 9, loss = 0.27846574\n",
            "Iteration 10, loss = 0.26938228\n",
            "Iteration 11, loss = 0.25802023\n",
            "Iteration 12, loss = 0.25723763\n",
            "Iteration 13, loss = 0.24065077\n",
            "Iteration 14, loss = 0.23433676\n",
            "Iteration 15, loss = 0.23485496\n",
            "Iteration 16, loss = 0.23001491\n",
            "Iteration 17, loss = 0.22096406\n",
            "Iteration 18, loss = 0.21950345\n",
            "Iteration 19, loss = 0.20777329\n",
            "Iteration 20, loss = 0.20980027\n",
            "Iteration 21, loss = 0.21037847\n",
            "Iteration 22, loss = 0.20318075\n",
            "Iteration 23, loss = 0.20824472\n",
            "Iteration 24, loss = 0.19769558\n",
            "Iteration 25, loss = 0.19448822\n",
            "Iteration 26, loss = 0.19312831\n",
            "Iteration 27, loss = 0.19070016\n",
            "Iteration 28, loss = 0.19506724\n",
            "Iteration 29, loss = 0.18994664\n",
            "Iteration 30, loss = 0.18468292\n",
            "Iteration 31, loss = 0.19614047\n",
            "Iteration 32, loss = 0.19832638\n",
            "Iteration 33, loss = 0.18469470\n",
            "Iteration 34, loss = 0.17462696\n",
            "Iteration 35, loss = 0.17539212\n",
            "Iteration 36, loss = 0.18885389\n",
            "Iteration 37, loss = 0.17773582\n",
            "Iteration 38, loss = 0.16925846\n",
            "Iteration 39, loss = 0.17989281\n",
            "Iteration 40, loss = 0.17353411\n",
            "Iteration 41, loss = 0.18179144\n",
            "Iteration 42, loss = 0.17865350\n",
            "Iteration 43, loss = 0.17174149\n",
            "Iteration 44, loss = 0.17433637\n",
            "Iteration 45, loss = 0.17649701\n",
            "Iteration 46, loss = 0.17965740\n",
            "Iteration 47, loss = 0.16644906\n",
            "Iteration 48, loss = 0.16974640\n",
            "Iteration 49, loss = 0.16569554\n",
            "Iteration 50, loss = 0.16854811\n"
          ]
        },
        {
          "output_type": "stream",
          "name": "stderr",
          "text": [
            "/usr/local/lib/python3.8/dist-packages/sklearn/neural_network/_multilayer_perceptron.py:692: ConvergenceWarning: Stochastic Optimizer: Maximum iterations (50) reached and the optimization hasn't converged yet.\n",
            "  warnings.warn(\n"
          ]
        },
        {
          "output_type": "stream",
          "name": "stdout",
          "text": [
            "Training set score: 0.952167\n",
            "Test set score: 0.890700\n"
          ]
        }
      ]
    },
    {
      "cell_type": "markdown",
      "source": [
        "<p align=\"justify\"> So that's a fair amount of improvement! By having more layers and more training epochs, we got an extra 5% or so of accuracy (remember, this might vary slightly because there is some randomness in the process). That might not seem like a lot, but eliminating 1 in 20 mistakes is actually a pretty big deal! You can keep playing with the neural network structure in this block and see if you can get even better accuracy. But this should also be good enough for now, so we're ready to apply it to our scanned letters."
      ],
      "metadata": {
        "id": "vvrfZ8Xeduj-"
      }
    },
    {
      "cell_type": "markdown",
      "source": [
        "**STEP** 4️⃣ <br>\n",
        "SCAN THE HANDWRITTEN LETTERS THAT MAKE THE POEM <br>\n",
        "SEE IF THE NEURAL NETWORK CAN CONVERT THEM TO TYPED TEXT"
      ],
      "metadata": {
        "id": "1-lkUjWQfOwA"
      }
    },
    {
      "cell_type": "markdown",
      "source": [
        "<p align=\"justify\"> First, we have to get the scanned letter dataset that we uploaded and saved on GitHub. You can see the raw scanned data set here:"
      ],
      "metadata": {
        "id": "MGDbyCCkgAZ8"
      }
    },
    {
      "cell_type": "markdown",
      "source": [
        "[Scanned handwritten letters](https://github.com/martins-jean/Handwritten-Poem-AI-Decoder/tree/main/letters)"
      ],
      "metadata": {
        "id": "S9OWikWJk8in"
      }
    },
    {
      "cell_type": "markdown",
      "source": [
        "<p align=\"justify\"> As you can see, those images are oversized. So I've also done a bit of pre-processing to avoid having to download and process quite so much data. I've changed the size of every image to 128x128 pixels. You may also notice that the EMNIST dataset uses a dark background with light strokes but our original scans have a white background with dark strokes. As such, I also went ahead and inverted those colors."
      ],
      "metadata": {
        "id": "I2nU61goni-V"
      }
    },
    {
      "cell_type": "markdown",
      "source": [
        "[Modified scans](https://github.com/martins-jean/Handwritten-Poem-AI-Decoder/tree/main/letters_mod)"
      ],
      "metadata": {
        "id": "EB_rWaU5oHi7"
      }
    },
    {
      "cell_type": "code",
      "source": [
        "# STEP 4.1\n",
        "\n",
        "# Pull the scanned dataset from GitHub\n",
        "!git clone https://github.com/martins-jean/Handwritten-Poem-AI-Decoder.git\n",
        "!git pull\n",
        "!ls Handwritten-Poem-AI-Decoder/letters_mod\n",
        "!cd /content/Handwritten-Poem-AI-Decoder/letters_mod\n",
        "!pwd\n",
        "\n",
        "# Puts all the data in the \"files variable\"\n",
        "import os\n",
        "path, dirs, files = next(os.walk(\"/content/Handwritten-Poem-AI-Decoder/letters_mod/\"))\n",
        "files.sort()"
      ],
      "metadata": {
        "colab": {
          "base_uri": "https://localhost:8080/"
        },
        "id": "O_iWXtKDoZLI",
        "outputId": "efc64898-c34a-4a5a-8eb7-8fa0bab589b9"
      },
      "execution_count": 34,
      "outputs": [
        {
          "output_type": "stream",
          "name": "stdout",
          "text": [
            "fatal: destination path 'Handwritten-Poem-AI-Decoder' already exists and is not an empty directory.\n",
            "fatal: not a git repository (or any of the parent directories): .git\n",
            "00.jpg\t10.jpg\t20.jpg\t30.jpg\t40.jpg\t50.jpg\t60.jpg\t70.jpg\t80.jpg\t90.jpg\n",
            "01.jpg\t11.jpg\t21.jpg\t31.jpg\t41.jpg\t51.jpg\t61.jpg\t71.jpg\t81.jpg\t91.jpg\n",
            "02.jpg\t12.jpg\t22.jpg\t32.jpg\t42.jpg\t52.jpg\t62.jpg\t72.jpg\t82.jpg\t92.jpg\n",
            "03.jpg\t13.jpg\t23.jpg\t33.jpg\t43.jpg\t53.jpg\t63.jpg\t73.jpg\t83.jpg\t93.jpg\n",
            "04.jpg\t14.jpg\t24.jpg\t34.jpg\t44.jpg\t54.jpg\t64.jpg\t74.jpg\t84.jpg\t94.jpg\n",
            "05.jpg\t15.jpg\t25.jpg\t35.jpg\t45.jpg\t55.jpg\t65.jpg\t75.jpg\t85.jpg\t95.jpg\n",
            "06.jpg\t16.jpg\t26.jpg\t36.jpg\t46.jpg\t56.jpg\t66.jpg\t76.jpg\t86.jpg\t96.jpg\n",
            "07.jpg\t17.jpg\t27.jpg\t37.jpg\t47.jpg\t57.jpg\t67.jpg\t77.jpg\t87.jpg\t97.jpg\n",
            "08.jpg\t18.jpg\t28.jpg\t38.jpg\t48.jpg\t58.jpg\t68.jpg\t78.jpg\t88.jpg\t98.jpg\n",
            "09.jpg\t19.jpg\t29.jpg\t39.jpg\t49.jpg\t59.jpg\t69.jpg\t79.jpg\t89.jpg\t99.jpg\n",
            "/content\n"
          ]
        }
      ]
    },
    {
      "cell_type": "markdown",
      "metadata": {
        "id": "8jot1iIMAC83"
      },
      "source": [
        "<p align=\"justify\"> Here we'll read each image and add it to a list to hold the handwritten poem. <br> We'll also print this image to make sure we read it correctly -- feel free to change this index to see different letters."
      ]
    },
    {
      "cell_type": "code",
      "source": [
        "# STEP 4.2\n",
        "\n",
        "# These libraries let us import the letters, resize them, and print them out\n",
        "import cv2\n",
        "import matplotlib.pyplot as plt\n",
        "\n",
        "# This code processes all the scanned images and adds them to the handwritten_poem\n",
        "handwritten_poem = []\n",
        "for i in range(len(files)):\n",
        "  img = cv2.imread(\"/content/Handwritten-Poem-AI-Decoder/letters_mod/\"+files[i],cv2.IMREAD_GRAYSCALE)\n",
        "  handwritten_poem.append(img)\n",
        "\n",
        "print(\"Imported the scanned images.\")\n",
        "\n",
        "plt.imshow(handwritten_poem[4]) # Change this index to see different letters"
      ],
      "metadata": {
        "colab": {
          "base_uri": "https://localhost:8080/",
          "height": 303
        },
        "id": "uRZOE4RgplRr",
        "outputId": "54e09f50-0d64-4eec-dcc9-8c859891920f"
      },
      "execution_count": 35,
      "outputs": [
        {
          "output_type": "stream",
          "name": "stdout",
          "text": [
            "Imported the scanned images.\n"
          ]
        },
        {
          "output_type": "execute_result",
          "data": {
            "text/plain": [
              "<matplotlib.image.AxesImage at 0x7f2401f1d160>"
            ]
          },
          "metadata": {},
          "execution_count": 35
        },
        {
          "output_type": "display_data",
          "data": {
            "text/plain": [
              "<Figure size 432x288 with 1 Axes>"
            ],
            "image/png": "[encoded data removed]"
          },
          "metadata": {
            "needs_background": "light"
          }
        }
      ]
    },
    {
      "cell_type": "markdown",
      "metadata": {
        "id": "L85HdxpOoM0t"
      },
      "source": [
        "<p align=\"justify\"> Well, to the naked eye this looks similar enough to the EMNIST letters and these even seem like they're MORE clear and bright. <br>\n",
        "So, let's try actually getting the poem! We're going to put the handwritten poem into our trained MLP and see how it does."
      ]
    },
    {
      "cell_type": "code",
      "source": [
        "# STEP 4.3\n",
        "\n",
        "# These are libraries we need to do some math on the image to be able to it to the MLP in the right format and to resize it to 28x28 pixels\n",
        "import numpy as np\n",
        "import cv2\n",
        "\n",
        "typed_poem = \"\"\n",
        "for letter in handwritten_poem:\n",
        "  letter = cv2.resize(letter, (28,28), interpolation = cv2.INTER_CUBIC)\n",
        "  single_item_array = (np.array(letter)).reshape(1, 784)\n",
        "  prediction = mlp2.predict(single_item_array)\n",
        "  typed_poem = typed_poem + str(chr(prediction[0]+96))\n",
        "\n",
        "print(\"Conversion to typed poem complete!\")\n",
        "print(typed_poem)"
      ],
      "metadata": {
        "colab": {
          "base_uri": "https://localhost:8080/"
        },
        "id": "taiDr3irrHPl",
        "outputId": "b17c7073-d362-41e2-cb48-6e9f3fe5aba3"
      },
      "execution_count": 36,
      "outputs": [
        {
          "output_type": "stream",
          "name": "stdout",
          "text": [
            "Conversion to typed poem complete!\n",
            "tnejfkvltjinjovxjpoherjsvprlfesjijffccjinjlovejthejwkyjyqvrjbktteryjoirsjslpwkrjknojthenjklljktjpmcr\n"
          ]
        }
      ]
    },
    {
      "cell_type": "markdown",
      "metadata": {
        "id": "FOVBUJagqLus"
      },
      "source": [
        "<p align=\"justify\"> And... that makes no sense, so what are we doing wrong?Well, first of all, the handwritten poem had some empty spaces between words. We never actually trained our model on empty spaces, just the 26 letters, so it wouldn't be able to detect these. Nevertheless, blank pages should be easy to detect. After all, unlike handwritten letters, all blank images should be exactly the same. So, we'll just check each image to see if it's a blank space. And if it is, we'll add a space to our story. "
      ]
    },
    {
      "cell_type": "code",
      "metadata": {
        "id": "U8BGJtQRq1xi",
        "colab": {
          "base_uri": "https://localhost:8080/"
        },
        "outputId": "6c8c37bc-c63f-4b90-9d3b-5b6190806e19"
      },
      "source": [
        "# STEP 4.4\n",
        "\n",
        "# This is a library we need to do some math on the image to be able to give it to the MLP in the right format\n",
        "import numpy as np\n",
        "\n",
        "typed_poem = \"\"\n",
        "for letter in handwritten_poem:\n",
        "  letter = cv2.resize(letter, (28,28), interpolation = cv2.INTER_CUBIC)\n",
        "    \n",
        "  #this bit of code checks to see if the image is just a blank space by looking at the color of all the pixels summed\n",
        "  total_pixel_value = 0\n",
        "  for j in range(28):\n",
        "    for k in range(28):\n",
        "      total_pixel_value += letter[j,k]\n",
        "  if total_pixel_value < 20:\n",
        "    typed_poem = typed_poem + \" \"\n",
        "  else:         #if it is NOT a blank, it actually runs the prediction algorithm on it\n",
        "    single_item_array = (np.array(letter)).reshape(1,784)\n",
        "    prediction = mlp2.predict(single_item_array)\n",
        "    typed_poem = typed_poem + str(chr(prediction[0]+96))\n",
        "    \n",
        "print(\"Conversion to typed story complete!\")\n",
        "print(typed_poem)"
      ],
      "execution_count": 37,
      "outputs": [
        {
          "output_type": "stream",
          "name": "stdout",
          "text": [
            "Conversion to typed story complete!\n",
            "tne fkvlt in ovx poher svprlfes i ffcc in love the wky yqvr bkttery oirs slpwkr kno then kll kt pmcr\n"
          ]
        }
      ]
    },
    {
      "cell_type": "markdown",
      "metadata": {
        "id": "zZ3RdoEarHyM"
      },
      "source": [
        "<p align=\"justify\"> This looks better as there are separate words but there's still something going wrong. The papers we scanned were really big compared to the handwritten samples that were used to train EMNIST. We resized them, but that doesn't seem to be enough. So we should try processing these images in the same way that EMNIST did. So, let's take a look at the original EMNIST paper:\n"
      ]
    },
    {
      "cell_type": "markdown",
      "source": [
        "[EMNIST paper](https://ttps://arxiv.org/abs/1702.05373v1)"
      ],
      "metadata": {
        "id": "ijqNTwpJx7Se"
      }
    },
    {
      "cell_type": "markdown",
      "source": [
        "<p align=\"justify\"> The paper describes the steps we need to take to process these images in one of the figures. Essentially, we need to make the strokes more blurry, we need to put the letter at the very center of the image and crop out the rest, and we need to resize each one to be 28x28 pixels. We'll do this processing and then print out one letter to see how it turned out. As always, we can change the index in the code to see a different letter."
      ],
      "metadata": {
        "id": "fFWmBhpIx4h2"
      }
    },
    {
      "cell_type": "code",
      "metadata": {
        "id": "RQ1SqowzKeHG",
        "colab": {
          "base_uri": "https://localhost:8080/",
          "height": 300
        },
        "outputId": "34a1b96c-686d-49bd-9dea-376f2f9bcce6"
      },
      "source": [
        "# STEP 4.5\n",
        "\n",
        "# These steps process the scanned images to be in the same format and have the same properties as the EMNIST images\n",
        "# They are described by the EMNIST authors in detail here: https://arxiv.org/abs/1702.05373v1\n",
        "processed_poem = []\n",
        "\n",
        "for img in handwritten_poem:\n",
        "  #step 1: Apply Gaussian blur filter\n",
        "  img = cv2.GaussianBlur(img, (7,7), 0)\n",
        "  \n",
        "  #steps 2 and 3: Extract the Region of Interest in the image and center in square\n",
        "  points = cv2.findNonZero(img)\n",
        "  x, y, w, h = cv2.boundingRect(points)\n",
        "  if (w > 0 and h > 0):\n",
        "    if w > h:\n",
        "      y = y - (w-h)//2\n",
        "      img = img[y:y+w, x:x+w]\n",
        "    else:\n",
        "      x = x - (h-w)//2\n",
        "      img = img[y:y+h, x:x+h]\n",
        "     \n",
        "  #step 4: Resize and resample to be 28 x 28 pixels\n",
        "  img = cv2.resize(img, (28,28), interpolation = cv2.INTER_CUBIC)\n",
        "  \n",
        "  #step 5: Normalize pixels and reshape before adding to the new story array\n",
        "  img = img/255\n",
        "  img = img.reshape((28,28))\n",
        "  processed_poem.append(img)\n",
        "\n",
        "print(\"Processed the scanned images.\")\n",
        "\n",
        "import matplotlib.pyplot as plt\n",
        "plt.imshow(processed_poem[4]) #<<< change this index if you want to see a different letter from the story"
      ],
      "execution_count": 38,
      "outputs": [
        {
          "output_type": "stream",
          "name": "stdout",
          "text": [
            "Processed the scanned images.\n"
          ]
        },
        {
          "output_type": "execute_result",
          "data": {
            "text/plain": [
              "<matplotlib.image.AxesImage at 0x7f2401ef31c0>"
            ]
          },
          "metadata": {},
          "execution_count": 38
        },
        {
          "output_type": "display_data",
          "data": {
            "text/plain": [
              "<Figure size 432x288 with 1 Axes>"
            ],
            "image/png": "[encoded data removed]"
          },
          "metadata": {
            "needs_background": "light"
          }
        }
      ]
    },
    {
      "cell_type": "markdown",
      "metadata": {
        "id": "FhobxHEoKqXt"
      },
      "source": [
        "<p align=\"justify\"> So even though the letter looks less clear now to our human eyes, it actually does look much more similar to the letters in the EMNIST dataset, which is good for our neural network. The edges of the letter are kind of fuzzy and it's centered in the square. Okay, so now we can try the processing the story with our neural network one more time!"
      ]
    },
    {
      "cell_type": "code",
      "metadata": {
        "id": "wFH4kBA9ar-O",
        "colab": {
          "base_uri": "https://localhost:8080/"
        },
        "outputId": "ae3e81c3-cafe-4109-d7d2-45cc271c55a4"
      },
      "source": [
        "# STEP 4.6\n",
        "\n",
        "# This is a library we need to do some math on the image to be able to give it to the MLP in the right format\n",
        "import numpy as np\n",
        "\n",
        "typed_poem = \"\"\n",
        "for letter in processed_poem:\n",
        "  #this bit of code checks to see if the image is just a blank space by looking at the color of all the pixels summed\n",
        "  total_pixel_value = 0\n",
        "  for j in range(28):\n",
        "    for k in range(28):\n",
        "      total_pixel_value += letter[j,k]\n",
        "  if total_pixel_value < 20:\n",
        "    typed_poem = typed_poem + \" \"\n",
        "  else:         #if it is NOT a blank, it actually runs the prediction algorithm on it\n",
        "    single_item_array = (np.array(letter)).reshape(1,784)\n",
        "    prediction = mlp2.predict(single_item_array)\n",
        "    typed_poem = typed_poem + str(chr(prediction[0]+96))\n",
        "    \n",
        "print(\"Conversion to typed poem complete!\")\n",
        "print(typed_poem)"
      ],
      "execution_count": 39,
      "outputs": [
        {
          "output_type": "stream",
          "name": "stdout",
          "text": [
            "Conversion to typed poem complete!\n",
            "the fault tn cur pcwer suppljes i fell in kove the way your battery dies skowly and then all af once\n"
          ]
        }
      ]
    },
    {
      "cell_type": "markdown",
      "metadata": {
        "id": "fWADSaLh_uho"
      },
      "source": [
        "**CONCLUSION**\n",
        "\n",
        "<p align=\"justify\"> We can definitely pick out more of the words! There are still some mistakes because our neural network accuracy wasn't 100%, so we would expect to see about the same rate of error here (maybe even a bit more, since these letters were originally created at a very different size). But, looking at the context and knowing which letters are likely to be mistaken for one another, we can still read the story. <br>\n",
        "\n",
        "<p align=\"justify\"> Looks like it starts: \n",
        "\"The Fault in Our Power Supplies” \n",
        "“I fell in love the way your battery dies, slowly and then all at once” <br>\n",
        "\n",
        "<p align=\"justify\"> No matter how many times you run the predict code above, it's going to make the exact same mistakes in the final printed string. That's because once a network is trained, it's not really random anymore -- it's always applying the same math to the pixels to make its prediction. To get a different prediction, you have to rerun the code above where you trained mlp2."
      ]
    }
  ]
}